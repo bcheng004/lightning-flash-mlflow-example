{
 "cells": [
  {
   "cell_type": "code",
   "execution_count": 1,
   "metadata": {},
   "outputs": [],
   "source": [
    "%load_ext autoreload\r\n",
    "%autoreload 2\r\n",
    "import warnings\r\n",
    "\r\n",
    "warnings.filterwarnings('ignore')"
   ]
  },
  {
   "cell_type": "code",
   "execution_count": 8,
   "metadata": {},
   "outputs": [],
   "source": [
    "from PIL import Image\r\n",
    "import os\r\n",
    "\r\n",
    "def resize_pad_png(png_name, factor=2):\r\n",
    "    img = Image.open(f'{png_name}.png')\r\n",
    "    right,left,top,bottom = 40,40,40,40\r\n",
    "    width, height = 640, 220\r\n",
    "    new_width = width + right + left\r\n",
    "    new_height = height + top + bottom\r\n",
    "    img = img.resize((width, height), Image.ANTIALIAS)\r\n",
    "    result = Image.new(img.mode, (new_width, new_height), (255, 255, 255))\r\n",
    "    result.paste(img, (left, top))\r\n",
    "    result.save(f'{png_name}-resize-pad.png')"
   ]
  },
  {
   "cell_type": "code",
   "execution_count": 9,
   "metadata": {},
   "outputs": [],
   "source": [
    "resize_pad_png('lightning-flash')"
   ]
  }
 ],
 "metadata": {
  "interpreter": {
   "hash": "64d303618c8ee9f1cee103d362ed2586b5f50e4b11555251f761d52c2b006ae5"
  },
  "kernelspec": {
   "display_name": "Python 3.8.5 64-bit (conda)",
   "name": "python3"
  },
  "language_info": {
   "codemirror_mode": {
    "name": "ipython",
    "version": 3
   },
   "file_extension": ".py",
   "mimetype": "text/x-python",
   "name": "python",
   "nbconvert_exporter": "python",
   "pygments_lexer": "ipython3",
   "version": "3.8.5"
  },
  "orig_nbformat": 4
 },
 "nbformat": 4,
 "nbformat_minor": 2
}