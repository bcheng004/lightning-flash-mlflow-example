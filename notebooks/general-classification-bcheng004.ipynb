{
 "cells": [
  {
   "cell_type": "code",
   "execution_count": 1,
   "metadata": {},
   "outputs": [],
   "source": [
    "%load_ext autoreload\r\n",
    "%autoreload 2\r\n",
    "import warnings\r\n",
    "from IPython.core.interactiveshell import InteractiveShell\r\n",
    "\r\n",
    "warnings.filterwarnings('ignore')\r\n",
    "InteractiveShell.ast_node_interactivity = 'last_expr'"
   ]
  },
  {
   "cell_type": "code",
   "execution_count": 2,
   "metadata": {},
   "outputs": [],
   "source": [
    "import configparser\r\n",
    "\r\n",
    "config = configparser.ConfigParser()\r\n",
    "config.read('config.ini')\r\n",
    "mlflow_uri = config['mlflow']['mlflow_uri']\r\n",
    "mlflow_artifact_uri = config['mlflow']['target_mlflow_artifact_uri']\r\n",
    "linux_mlflow_artifact_uri = config['mlflow']['linux_target_mlflow_artifact_uri']"
   ]
  },
  {
   "cell_type": "code",
   "execution_count": 3,
   "metadata": {},
   "outputs": [],
   "source": [
    "import flash\r\n",
    "from flash.core.data.utils import download_data\r\n",
    "\r\n",
    "download_data(config['classification-example']['download_url'], 'data/')"
   ]
  },
  {
   "cell_type": "code",
   "execution_count": 4,
   "metadata": {},
   "outputs": [
    {
     "name": "stdout",
     "output_type": "stream",
     "text": [
      "NumExpr defaulting to 4 threads.\n"
     ]
    }
   ],
   "source": [
    "from flash.tabular import TabularClassifier, TabularData\r\n",
    "\r\n",
    "cat_cols, num_cols = ['Sex','Age','SibSp','Parch','Ticket','Cabin','Embarked'], ['Fare']\r\n",
    "target_fields, val_split = 'Survived', 0.25\r\n",
    "datamodule = TabularData.from_csv(\r\n",
    "    categorical_fields=cat_cols,\r\n",
    "    numerical_fields=num_cols,\r\n",
    "    target_fields=target_fields,\r\n",
    "    train_file=config['classification-example']['train_file'],\r\n",
    "    test_file=config['classification-example']['test_file'],\r\n",
    "    val_split=val_split\r\n",
    ")"
   ]
  },
  {
   "cell_type": "code",
   "execution_count": 5,
   "metadata": {},
   "outputs": [],
   "source": [
    "from torchmetrics.classification import Accuracy,Precision,Recall\r\n",
    "metrics = [Accuracy(),Precision(),Recall()]\r\n",
    "model = TabularClassifier.from_data(datamodule=datamodule, metrics=metrics)"
   ]
  },
  {
   "cell_type": "code",
   "execution_count": 7,
   "metadata": {},
   "outputs": [],
   "source": [
    "import os\r\n",
    "from pytorch_lightning.loggers import MLFlowLogger\r\n",
    "\r\n",
    "username = os.getenv('USER_UID')\r\n",
    "mlf_logger = MLFlowLogger(experiment_name=f'lf-classification-{username}', tracking_uri=mlflow_uri)"
   ]
  },
  {
   "cell_type": "code",
   "execution_count": 8,
   "metadata": {},
   "outputs": [
    {
     "name": "stderr",
     "output_type": "stream",
     "text": [
      "GPU available: False, used: False\n",
      "TPU available: False, using: 0 TPU cores\n"
     ]
    }
   ],
   "source": [
    "trainer = flash.Trainer(logger=mlf_logger, max_epochs=10)"
   ]
  },
  {
   "cell_type": "code",
   "execution_count": 9,
   "metadata": {},
   "outputs": [
    {
     "name": "stderr",
     "output_type": "stream",
     "text": [
      "Experiment with name lf-classification-chengb not found. Creating it.\n",
      "\n",
      "  | Name    | Type       | Params\n",
      "---------------------------------------\n",
      "0 | model   | TabNet     | 28.2 K\n",
      "1 | metrics | ModuleDict | 0     \n",
      "---------------------------------------\n",
      "28.2 K    Trainable params\n",
      "0         Non-trainable params\n",
      "28.2 K    Total params\n",
      "0.113     Total estimated model params size (MB)\n"
     ]
    },
    {
     "name": "stdout",
     "output_type": "stream",
     "text": [
      "Epoch 9: 100%|██████████| 200/200 [00:15<00:00, 12.96it/s, loss=0.583, v_num=427e, val_accuracy=0.710, val_precision=0.710, val_recall=0.710, val_cross_entropy=0.598, train_accuracy_step=0.500, train_precision_step=0.500, train_recall_step=0.500, train_cross_entropy_step=0.968, train_accuracy_epoch=0.708, train_precision_epoch=0.708, train_recall_epoch=0.708, train_cross_entropy_epoch=0.584]\n"
     ]
    }
   ],
   "source": [
    "trainer.fit(model, datamodule=datamodule)"
   ]
  },
  {
   "cell_type": "code",
   "execution_count": 10,
   "metadata": {},
   "outputs": [
    {
     "name": "stdout",
     "output_type": "stream",
     "text": [
      "Testing: 100%|██████████| 23/23 [00:00<00:00, 62.33it/s]\n",
      "--------------------------------------------------------------------------------\n",
      "DATALOADER:0 TEST RESULTS\n",
      "{'test_accuracy': 0.6666666865348816,\n",
      " 'test_cross_entropy': 0.7112483382225037,\n",
      " 'test_precision': 0.6666666865348816,\n",
      " 'test_recall': 0.6666666865348816}\n",
      "--------------------------------------------------------------------------------\n"
     ]
    },
    {
     "data": {
      "text/plain": [
       "[{'test_accuracy': 0.6666666865348816,\n",
       "  'test_precision': 0.6666666865348816,\n",
       "  'test_recall': 0.6666666865348816,\n",
       "  'test_cross_entropy': 0.7112483382225037}]"
      ]
     },
     "execution_count": 10,
     "metadata": {},
     "output_type": "execute_result"
    }
   ],
   "source": [
    "trainer.test()"
   ]
  },
  {
   "cell_type": "code",
   "execution_count": 12,
   "metadata": {},
   "outputs": [],
   "source": [
    "# If one is training on windows laptop or training on linux blade\r\n",
    "import shutil\r\n",
    "import platform\r\n",
    "\r\n",
    "exp_num = '147'\r\n",
    "if platform.system() in set(['Windows','Linux']):\r\n",
    "    file_names = os.listdir()\r\n",
    "    current_artifact_base_fpath = os.getcwd()\r\n",
    "    source_dir = f'{current_artifact_base_fpath}'\r\n",
    "    target_dict = {'Windows': mlflow_artifact_uri, 'Linux': linux_mlflow_artifact_uri}\r\n",
    "    target_dir = target_dict[platform.system()]\r\n",
    "    for file_name in file_names:\r\n",
    "        if file_name  == exp_num:\r\n",
    "            for subfolder in os.listdir(file_name):\r\n",
    "                for artifacts in os.listdir(os.path.join(file_name,subfolder)):\r\n",
    "                    if artifacts == 'checkpoints':\r\n",
    "                        orig_artifacts_loc = os.path.join(os.path.join(os.path.join(source_dir, file_name), subfolder), artifacts)\r\n",
    "                        # print(orig_artifacts_loc)\r\n",
    "                        new_artifacts_loc = os.path.join(os.path.join(os.path.join(source_dir, file_name), subfolder), 'artifacts')\r\n",
    "                        # print(new_artifacts_loc)\r\n",
    "                        shutil.move(orig_artifacts_loc, new_artifacts_loc)\r\n",
    "            shutil.move(os.path.join(source_dir, file_name), target_dir)"
   ]
  },
  {
   "cell_type": "code",
   "execution_count": 13,
   "metadata": {},
   "outputs": [],
   "source": [
    "run_id = '41d7ba3ba4b8461ebb4fbe96b014427e'\r\n",
    "\r\n",
    "win_model_path = f'{mlflow_artifact_uri}\\\\{exp_num}\\\\{run_id}\\\\artifacts'\r\n",
    "linux_model_path = f'{linux_mlflow_artifact_uri}/{exp_num}/{run_id}/artifacts'\r\n",
    "model_path_dict = {'Windows': win_model_path, 'Linux': linux_model_path}\r\n",
    "\r\n",
    "if platform.system() in set(list(model_path_dict.keys())):\r\n",
    "    model_path = model_path_dict[platform.system()]\r\n",
    "for pt in os.listdir(model_path):\r\n",
    "    if pt.endswith('.ckpt'):\r\n",
    "        win_ckpt_path, linux_ckpt_path = f'{model_path}\\\\{pt}', f'{model_path}/{pt}'\r\n",
    "        ckpt_path_dict = {'Windows': win_ckpt_path, 'Linux': linux_ckpt_path}\r\n",
    "        if platform.system() in set(list(ckpt_path_dict.keys())):\r\n",
    "            ckpt_path = ckpt_path_dict[platform.system()]"
   ]
  },
  {
   "cell_type": "code",
   "execution_count": 14,
   "metadata": {},
   "outputs": [],
   "source": [
    "model = TabularClassifier.load_from_checkpoint(ckpt_path)"
   ]
  },
  {
   "cell_type": "code",
   "execution_count": 15,
   "metadata": {},
   "outputs": [
    {
     "name": "stdout",
     "output_type": "stream",
     "text": [
      "[[0.5276029706001282, 0.47239696979522705], [0.3114148676395416, 0.6885851621627808], [0.774603545665741, 0.22539640963077545], [0.7591143250465393, 0.24088571965694427], [0.8354960083961487, 0.16450397670269012], [0.7833905816078186, 0.2166094183921814], [0.7704339623451233, 0.22956611216068268], [0.6087574362754822, 0.3912425637245178], [0.6843942403793335, 0.31560570001602173], [0.72352534532547, 0.27647462487220764], [0.4071795642375946, 0.5928204655647278], [0.6966503858566284, 0.30334964394569397], [0.7569880485534668, 0.24301189184188843], [0.7583250403404236, 0.24167494475841522], [0.7710530161857605, 0.2289469987154007], [0.7673313021659851, 0.2326686978340149], [0.7481235265731812, 0.25187647342681885], [0.5453111529350281, 0.4546888768672943], [0.7842716574668884, 0.21572835743427277], [0.8562350273132324, 0.14376500248908997], [0.849664568901062, 0.150335431098938], [0.3537507951259613, 0.6462491750717163], [0.8288909792900085, 0.17110903561115265], [0.6757763028144836, 0.32422366738319397], [0.7207982540130615, 0.2792017459869385], [0.7545130848884583, 0.24548687040805817], [0.756439745426178, 0.2435602992773056], [0.6913092732429504, 0.3086906969547272], [0.7920212745666504, 0.20797868072986603], [0.6532324552536011, 0.3467675447463989], [0.6767659187316895, 0.32323405146598816], [0.7794409990310669, 0.2205590307712555], [0.8202787041664124, 0.17972129583358765], [0.8330975770950317, 0.1669023633003235], [0.6433696746826172, 0.3566302955150604], [0.8894475102424622, 0.11055252701044083], [0.821672260761261, 0.1783277541399002], [0.9172590374946594, 0.08274098485708237], [0.7689536809921265, 0.23104627430438995], [0.7964688539505005, 0.2035312056541443], [0.7473015785217285, 0.2526984214782715], [0.41563278436660767, 0.5843672156333923], [0.868144154548645, 0.13185584545135498], [0.8514085412025452, 0.14859150350093842], [0.7898422479629517, 0.21015773713588715], [0.758368730545044, 0.24163119494915009], [0.7295577526092529, 0.27044224739074707], [0.8503615260124207, 0.14963844418525696], [0.715996503829956, 0.28400343656539917], [0.8125981092453003, 0.1874018907546997], [0.5200185775756836, 0.4799814522266388], [0.7849420309066772, 0.21505792438983917], [0.6095674633979797, 0.3904325067996979], [0.7777478098869324, 0.22225221991539001], [0.7838385701179504, 0.21616142988204956], [0.7046895027160645, 0.29531052708625793], [0.9344569444656372, 0.06554301083087921], [0.16886837780475616, 0.831131637096405], [0.8414919972419739, 0.15850798785686493], [0.6525381803512573, 0.3474618196487427], [0.7568745613098145, 0.24312543869018555], [0.8179590702056885, 0.18204094469547272], [0.7917644381523132, 0.20823551714420319], [0.6946806907653809, 0.30531927943229675], [0.9223602414131165, 0.07763976603746414], [0.28795015811920166, 0.7120498418807983], [0.8221134543418884, 0.17788657546043396], [0.7877012491226196, 0.21229876577854156], [0.7342138886451721, 0.26578617095947266], [0.8094058632850647, 0.1905941665172577], [0.652366042137146, 0.3476339876651764], [0.6057073473930359, 0.3942926526069641], [0.7177579998970032, 0.28224197030067444], [0.7926837801933289, 0.20731624960899353], [0.7047324776649475, 0.2952675223350525], [0.5692837238311768, 0.43071627616882324], [0.7423287034034729, 0.2576713263988495], [0.796964168548584, 0.2030358463525772], [0.8628215193748474, 0.13717849552631378], [0.5425108075141907, 0.45748916268348694], [0.7391501665115356, 0.26084986329078674], [0.7524579763412476, 0.24754203855991364], [0.7662884593009949, 0.23371157050132751], [0.8257802128791809, 0.17421980202198029], [0.7534456849098206, 0.24655437469482422], [0.5007638335227966, 0.49923616647720337], [0.209153950214386, 0.7908461093902588], [0.8506148457527161, 0.14938510954380035], [0.7775755524635315, 0.2224244326353073], [0.767760694026947, 0.23223930597305298]]\n"
     ]
    }
   ],
   "source": [
    "predictions = model.predict(config['classification-example']['predict_file'])\r\n",
    "print(predictions)"
   ]
  }
 ],
 "metadata": {
  "interpreter": {
   "hash": "64d303618c8ee9f1cee103d362ed2586b5f50e4b11555251f761d52c2b006ae5"
  },
  "kernelspec": {
   "display_name": "Python 3.8.5 64-bit (conda)",
   "name": "python3"
  },
  "language_info": {
   "codemirror_mode": {
    "name": "ipython",
    "version": 3
   },
   "file_extension": ".py",
   "mimetype": "text/x-python",
   "name": "python",
   "nbconvert_exporter": "python",
   "pygments_lexer": "ipython3",
   "version": "3.8.5"
  },
  "orig_nbformat": 4
 },
 "nbformat": 4,
 "nbformat_minor": 2
}