{
 "cells": [
  {
   "cell_type": "code",
   "execution_count": 1,
   "metadata": {},
   "outputs": [],
   "source": [
    "%load_ext autoreload\r\n",
    "%autoreload 2\r\n",
    "import warnings\r\n",
    "from IPython.core.interactiveshell import InteractiveShell\r\n",
    "\r\n",
    "warnings.filterwarnings('ignore')\r\n",
    "InteractiveShell.ast_node_interactivity = 'last_expr'"
   ]
  },
  {
   "cell_type": "code",
   "execution_count": 16,
   "metadata": {},
   "outputs": [],
   "source": [
    "import configparser\r\n",
    "\r\n",
    "config = configparser.ConfigParser()\r\n",
    "config.read('config.ini')\r\n",
    "mlflow_uri = config['mlflow']['mlflow_uri']\r\n",
    "mlflow_artifact_uri = config['mlflow']['target_mlflow_artifact_uri']\r\n",
    "linux_mlflow_artifact_uri = config['mlflow']['linux_target_mlflow_artifact_uri']"
   ]
  },
  {
   "cell_type": "code",
   "execution_count": 3,
   "metadata": {},
   "outputs": [],
   "source": [
    "import flash\r\n",
    "from flash.core.data.utils import download_data\r\n",
    "\r\n",
    "download_data(config['classification-example']['download_url'], 'data/')"
   ]
  },
  {
   "cell_type": "code",
   "execution_count": 4,
   "metadata": {},
   "outputs": [
    {
     "name": "stdout",
     "output_type": "stream",
     "text": [
      "NumExpr defaulting to 4 threads.\n"
     ]
    }
   ],
   "source": [
    "from flash.tabular import TabularClassifier, TabularData\r\n",
    "\r\n",
    "cat_cols, num_cols = ['Sex','Age','SibSp','Parch','Ticket','Cabin','Embarked'], ['Fare']\r\n",
    "target_fields, val_split = 'Survived', 0.25\r\n",
    "datamodule = TabularData.from_csv(\r\n",
    "    categorical_fields=cat_cols,\r\n",
    "    numerical_fields=num_cols,\r\n",
    "    target_fields=target_fields,\r\n",
    "    train_file=config['classification-example']['train_file'],\r\n",
    "    test_file=config['classification-example']['test_file'],\r\n",
    "    val_split=val_split\r\n",
    ")"
   ]
  },
  {
   "cell_type": "code",
   "execution_count": 5,
   "metadata": {},
   "outputs": [],
   "source": [
    "from torchmetrics.classification import Accuracy,Precision,Recall\r\n",
    "metrics = [Accuracy(),Precision(),Recall()]\r\n",
    "model = TabularClassifier.from_data(datamodule=datamodule, metrics=metrics)"
   ]
  },
  {
   "cell_type": "code",
   "execution_count": 7,
   "metadata": {},
   "outputs": [],
   "source": [
    "import os\r\n",
    "from pytorch_lightning.loggers import MLFlowLogger\r\n",
    "\r\n",
    "username = os.getenv('USER_UID')\r\n",
    "mlf_logger = MLFlowLogger(experiment_name=f'lf-class-{username}', tracking_uri=mlflow_uri)"
   ]
  },
  {
   "cell_type": "code",
   "execution_count": 8,
   "metadata": {},
   "outputs": [
    {
     "name": "stderr",
     "output_type": "stream",
     "text": [
      "GPU available: False, used: False\n",
      "TPU available: False, using: 0 TPU cores\n"
     ]
    }
   ],
   "source": [
    "trainer = flash.Trainer(logger=mlf_logger, max_epochs=10)"
   ]
  },
  {
   "cell_type": "code",
   "execution_count": 9,
   "metadata": {},
   "outputs": [
    {
     "name": "stderr",
     "output_type": "stream",
     "text": [
      "Experiment with name lf-class-chengb not found. Creating it.\n",
      "\n",
      "  | Name    | Type       | Params\n",
      "---------------------------------------\n",
      "0 | model   | TabNet     | 28.2 K\n",
      "1 | metrics | ModuleDict | 0     \n",
      "---------------------------------------\n",
      "28.2 K    Trainable params\n",
      "0         Non-trainable params\n",
      "28.2 K    Total params\n",
      "0.113     Total estimated model params size (MB)\n"
     ]
    },
    {
     "name": "stdout",
     "output_type": "stream",
     "text": [
      "Epoch 9: 100%|██████████| 200/200 [00:11<00:00, 16.69it/s, loss=0.555, v_num=c33f, val_accuracy=0.775, val_precision=0.775, val_recall=0.775, val_cross_entropy=0.520, train_accuracy_step=0.500, train_precision_step=0.500, train_recall_step=0.500, train_cross_entropy_step=0.710, train_accuracy_epoch=0.722, train_precision_epoch=0.722, train_recall_epoch=0.722, train_cross_entropy_epoch=0.574]\n"
     ]
    }
   ],
   "source": [
    "trainer.fit(model, datamodule=datamodule)"
   ]
  },
  {
   "cell_type": "code",
   "execution_count": 10,
   "metadata": {},
   "outputs": [
    {
     "name": "stdout",
     "output_type": "stream",
     "text": [
      "Testing: 100%|██████████| 23/23 [00:00<00:00, 65.34it/s]\n",
      "--------------------------------------------------------------------------------\n",
      "DATALOADER:0 TEST RESULTS\n",
      "{'test_accuracy': 0.7111111283302307,\n",
      " 'test_cross_entropy': 0.6236193776130676,\n",
      " 'test_precision': 0.7111111283302307,\n",
      " 'test_recall': 0.7111111283302307}\n",
      "--------------------------------------------------------------------------------\n"
     ]
    },
    {
     "data": {
      "text/plain": [
       "[{'test_accuracy': 0.7111111283302307,\n",
       "  'test_precision': 0.7111111283302307,\n",
       "  'test_recall': 0.7111111283302307,\n",
       "  'test_cross_entropy': 0.6236193776130676}]"
      ]
     },
     "execution_count": 10,
     "metadata": {},
     "output_type": "execute_result"
    }
   ],
   "source": [
    "trainer.test()"
   ]
  },
  {
   "cell_type": "code",
   "execution_count": 12,
   "metadata": {},
   "outputs": [],
   "source": [
    "# If one is training on windows laptop or training on linux blade\r\n",
    "import shutil\r\n",
    "import platform\r\n",
    "\r\n",
    "exp_num = '146'\r\n",
    "if platform.system() == 'Windows':\r\n",
    "    file_names = os.listdir()\r\n",
    "    current_artifact_base_fpath = os.getcwd()\r\n",
    "    source_dir = f'{current_artifact_base_fpath}'\r\n",
    "    target_dir = mlflow_artifact_uri\r\n",
    "    for file_name in file_names:\r\n",
    "        if file_name  == exp_num:\r\n",
    "            for subfolder in os.listdir(file_name):\r\n",
    "                for artifacts in os.listdir(os.path.join(file_name,subfolder)):\r\n",
    "                    if artifacts == 'checkpoints':\r\n",
    "                        orig_artifacts_loc = os.path.join(os.path.join(os.path.join(source_dir, file_name), subfolder), artifacts)\r\n",
    "                        # print(orig_artifacts_loc)\r\n",
    "                        new_artifacts_loc = os.path.join(os.path.join(os.path.join(source_dir, file_name), subfolder), 'artifacts')\r\n",
    "                        # print(new_artifacts_loc)\r\n",
    "                        shutil.move(orig_artifacts_loc, new_artifacts_loc)\r\n",
    "            shutil.move(os.path.join(source_dir, file_name), target_dir)\r\n",
    "elif platform.system() == 'Linux':\r\n",
    "    file_names = os.listdir()\r\n",
    "    current_artifact_base_fpath = os.getcwd()\r\n",
    "    source_dir = f'{current_artifact_base_fpath}'\r\n",
    "    target_dir = linux_mlflow_artifact_uri\r\n",
    "    for file_name in file_names:\r\n",
    "        if file_name  == exp_num:\r\n",
    "            for subfolder in os.listdir(file_name):\r\n",
    "                for artifacts in os.listdir(os.path.join(file_name,subfolder)):\r\n",
    "                    if artifacts == 'checkpoints':\r\n",
    "                        orig_artifacts_loc = os.path.join(os.path.join(os.path.join(source_dir, file_name), subfolder), artifacts)\r\n",
    "                        # print(orig_artifacts_loc)\r\n",
    "                        new_artifacts_loc = os.path.join(os.path.join(os.path.join(source_dir, file_name), subfolder), 'artifacts')\r\n",
    "                        # print(new_artifacts_loc)\r\n",
    "                        shutil.move(orig_artifacts_loc, new_artifacts_loc)\r\n",
    "            shutil.move(os.path.join(source_dir, file_name), target_dir)"
   ]
  },
  {
   "cell_type": "code",
   "execution_count": 13,
   "metadata": {},
   "outputs": [],
   "source": [
    "run_id = 'c4da22cf7718485c80fe2d29aa3cc33f'\r\n",
    "if platform.system() == 'Windows':\r\n",
    "    model_path = f'{mlflow_artifact_uri}\\\\{exp_num}\\\\{run_id}\\\\artifacts'\r\n",
    "elif platform.system() == 'Linux':\r\n",
    "    model_path = f'{linux_mlflow_artifact_uri}/{exp_num}/{run_id}/artifacts'\r\n",
    "for pt in os.listdir(model_path):\r\n",
    "    if pt.endswith('.ckpt'):\r\n",
    "        if platform.system() == 'Windows':\r\n",
    "            ckpt_path = f'{model_path}\\\\{pt}'\r\n",
    "        elif platform.system() == 'Linux':\r\n",
    "            ckpt_path = f'{model_path}/{pt}'"
   ]
  },
  {
   "cell_type": "code",
   "execution_count": 14,
   "metadata": {},
   "outputs": [],
   "source": [
    "model = TabularClassifier.load_from_checkpoint(ckpt_path)"
   ]
  },
  {
   "cell_type": "code",
   "execution_count": 17,
   "metadata": {},
   "outputs": [
    {
     "name": "stdout",
     "output_type": "stream",
     "text": [
      "[[0.2692548930644989, 0.7307450771331787], [0.20101088285446167, 0.7989890575408936], [0.7869592905044556, 0.2130407691001892], [0.7679380774497986, 0.23206186294555664], [0.7289539575576782, 0.2710460424423218], [0.8362942337989807, 0.1637057363986969], [0.7638676166534424, 0.23613230884075165], [0.761445939540863, 0.23855401575565338], [0.8224246501922607, 0.17757539451122284], [0.7843981981277466, 0.21560174226760864], [0.3727164566516876, 0.6272834539413452], [0.8926337957382202, 0.10736621171236038], [0.5770226120948792, 0.42297738790512085], [0.34723520278930664, 0.6527647972106934], [0.7843812704086304, 0.21561871469020844], [0.7846007943153381, 0.21539916098117828], [0.7235276699066162, 0.2764723598957062], [0.4098041355609894, 0.590195894241333], [0.8182392120361328, 0.18176080286502838], [0.796673059463501, 0.20332694053649902], [0.844999372959137, 0.15500059723854065], [0.382688969373703, 0.6173110008239746], [0.8152332901954651, 0.1847667247056961], [0.7858826518058777, 0.2141173630952835], [0.8373401165008545, 0.1626598984003067], [0.8705866932868958, 0.12941329181194305], [0.8033531308174133, 0.19664685428142548], [0.317050963640213, 0.6829490065574646], [0.8017850518226624, 0.19821497797966003], [0.8294680714607239, 0.1705319732427597], [0.3561542332172394, 0.6438457369804382], [0.27384185791015625, 0.7261581420898438], [0.8724517822265625, 0.1275482177734375], [0.7868916988372803, 0.21310825645923615], [0.8403716087341309, 0.15962842106819153], [0.8644279837608337, 0.13557206094264984], [0.8615545630455017, 0.13844545185565948], [0.3939475119113922, 0.6060525178909302], [0.7967418432235718, 0.20325815677642822], [0.8110897541046143, 0.18891029059886932], [0.8415725231170654, 0.15842747688293457], [0.25011029839515686, 0.7498896718025208], [0.7587342858314514, 0.24126572906970978], [0.7696367502212524, 0.23036327958106995], [0.7618051767349243, 0.23819482326507568], [0.6537925601005554, 0.34620752930641174], [0.6946367025375366, 0.3053632974624634], [0.8299508094787598, 0.1700492650270462], [0.8298255205154419, 0.1701744943857193], [0.7195066213607788, 0.2804933786392212], [0.7004560232162476, 0.29954400658607483], [0.7872462868690491, 0.2127537727355957], [0.6153454780578613, 0.38465452194213867], [0.759123682975769, 0.24087634682655334], [0.8660419583320618, 0.13395799696445465], [0.8186968564987183, 0.18130315840244293], [0.1901373267173767, 0.8098626732826233], [0.2639254927635193, 0.7360745668411255], [0.909324049949646, 0.09067598730325699], [0.8320354223251343, 0.16796451807022095], [0.7958212494850159, 0.20417875051498413], [0.7588546872138977, 0.24114535748958588], [0.7257882356643677, 0.2742118239402771], [0.7325630187988281, 0.2674369215965271], [0.8273001909255981, 0.17269983887672424], [0.2101021260023117, 0.7898978590965271], [0.8262455463409424, 0.1737545281648636], [0.8458647131919861, 0.15413521230220795], [0.7481465339660645, 0.25185346603393555], [0.5414763689041138, 0.45852360129356384], [0.24756750464439392, 0.7524324655532837], [0.6575561761856079, 0.3424437940120697], [0.8825429677963257, 0.11745701730251312], [0.8284458518028259, 0.17155416309833527], [0.8192697763442993, 0.18073025345802307], [0.44283804297447205, 0.5571620464324951], [0.7495988011360168, 0.25040122866630554], [0.7510401010513306, 0.24895986914634705], [0.4684048593044281, 0.5315951108932495], [0.4708581864833832, 0.5291417241096497], [0.22097115218639374, 0.7790288925170898], [0.8008487820625305, 0.19915124773979187], [0.842361569404602, 0.15763846039772034], [0.7335814237594604, 0.2664185166358948], [0.1913306713104248, 0.8086692690849304], [0.246817946434021, 0.753182053565979], [0.318925142288208, 0.681074857711792], [0.8476202487945557, 0.15237975120544434], [0.8357106447219849, 0.16428934037685394], [0.32485246658325195, 0.675147533416748]]\n"
     ]
    }
   ],
   "source": [
    "predictions = model.predict(config['classification-example']['predict_file'])\r\n",
    "print(predictions)"
   ]
  }
 ],
 "metadata": {
  "interpreter": {
   "hash": "64d303618c8ee9f1cee103d362ed2586b5f50e4b11555251f761d52c2b006ae5"
  },
  "kernelspec": {
   "display_name": "Python 3.8.5 64-bit (conda)",
   "name": "python3"
  },
  "language_info": {
   "codemirror_mode": {
    "name": "ipython",
    "version": 3
   },
   "file_extension": ".py",
   "mimetype": "text/x-python",
   "name": "python",
   "nbconvert_exporter": "python",
   "pygments_lexer": "ipython3",
   "version": "3.8.5"
  },
  "orig_nbformat": 4
 },
 "nbformat": 4,
 "nbformat_minor": 2
}