{
 "metadata": {
  "language_info": {
   "codemirror_mode": {
    "name": "ipython",
    "version": 3
   },
   "file_extension": ".py",
   "mimetype": "text/x-python",
   "name": "python",
   "nbconvert_exporter": "python",
   "pygments_lexer": "ipython3",
   "version": "3.8.5"
  },
  "orig_nbformat": 4,
  "kernelspec": {
   "name": "python3",
   "display_name": "Python 3.8.5 64-bit (conda)"
  },
  "interpreter": {
   "hash": "64d303618c8ee9f1cee103d362ed2586b5f50e4b11555251f761d52c2b006ae5"
  }
 },
 "nbformat": 4,
 "nbformat_minor": 2,
 "cells": [
  {
   "cell_type": "code",
   "execution_count": 1,
   "metadata": {},
   "outputs": [],
   "source": [
    "%load_ext autoreload\n",
    "%autoreload 2\n",
    "import warnings\n",
    "from IPython.core.interactiveshell import InteractiveShell\n",
    "\n",
    "warnings.filterwarnings('ignore')\n",
    "InteractiveShell.ast_node_interactivity = 'last_expr'"
   ]
  },
  {
   "cell_type": "code",
   "execution_count": 2,
   "metadata": {},
   "outputs": [
    {
     "output_type": "execute_result",
     "data": {
      "text/plain": [
       "['config.ini']"
      ]
     },
     "metadata": {},
     "execution_count": 2
    }
   ],
   "source": [
    "import configparser\n",
    "\n",
    "config = configparser.ConfigParser()\n",
    "config.read('config.ini')"
   ]
  },
  {
   "cell_type": "code",
   "execution_count": 3,
   "metadata": {},
   "outputs": [
    {
     "output_type": "stream",
     "name": "stderr",
     "text": [
      "data/imdb.zip: 15576KB [00:02, 7100.61KB/s]                           \n"
     ]
    }
   ],
   "source": [
    "import flash\n",
    "from flash.core.data.utils import download_data\n",
    "\n",
    "download_data(config['text-example']['download_url'], 'data/')"
   ]
  },
  {
   "cell_type": "code",
   "execution_count": 4,
   "metadata": {},
   "outputs": [
    {
     "output_type": "stream",
     "name": "stderr",
     "text": [
      "Using custom data configuration default\n",
      "Downloading and preparing dataset csv/default-3c17381e2bf30ea7 (download: Unknown size, generated: Unknown size, post-processed: Unknown size, total: Unknown size) to C:\\Users\\chengb\\.cache\\huggingface\\datasets\\csv\\default-3c17381e2bf30ea7\\0.0.0\\2960f95a26e85d40ca41a230ac88787f715ee3003edaacb8b1f0891e9f04dda2...\n",
      "  8%|▊         | 1822/22500 [00:00<00:01, 18040.40ex/s]Dataset csv downloaded and prepared to C:\\Users\\chengb\\.cache\\huggingface\\datasets\\csv\\default-3c17381e2bf30ea7\\0.0.0\\2960f95a26e85d40ca41a230ac88787f715ee3003edaacb8b1f0891e9f04dda2. Subsequent calls will reuse this data.\n",
      "100%|██████████| 22500/22500 [00:01<00:00, 16841.51ex/s]\n",
      "100%|██████████| 23/23 [00:20<00:00,  1.13ba/s]\n",
      "Using custom data configuration default\n",
      "Downloading and preparing dataset csv/default-c6577a538e0735fc (download: Unknown size, generated: Unknown size, post-processed: Unknown size, total: Unknown size) to C:\\Users\\chengb\\.cache\\huggingface\\datasets\\csv\\default-c6577a538e0735fc\\0.0.0\\2960f95a26e85d40ca41a230ac88787f715ee3003edaacb8b1f0891e9f04dda2...\n",
      " 40%|████      | 1000/2500 [00:00<00:00, 9259.54ex/s]Dataset csv downloaded and prepared to C:\\Users\\chengb\\.cache\\huggingface\\datasets\\csv\\default-c6577a538e0735fc\\0.0.0\\2960f95a26e85d40ca41a230ac88787f715ee3003edaacb8b1f0891e9f04dda2. Subsequent calls will reuse this data.\n",
      "100%|██████████| 2500/2500 [00:00<00:00, 11628.11ex/s]\n",
      "100%|██████████| 3/3 [00:02<00:00,  1.24ba/s]\n",
      "Using custom data configuration default\n",
      "Downloading and preparing dataset csv/default-953e48fdfd390344 (download: Unknown size, generated: Unknown size, post-processed: Unknown size, total: Unknown size) to C:\\Users\\chengb\\.cache\\huggingface\\datasets\\csv\\default-953e48fdfd390344\\0.0.0\\2960f95a26e85d40ca41a230ac88787f715ee3003edaacb8b1f0891e9f04dda2...\n",
      " 42%|████▏     | 1052/2500 [00:00<00:00, 10497.51ex/s]Dataset csv downloaded and prepared to C:\\Users\\chengb\\.cache\\huggingface\\datasets\\csv\\default-953e48fdfd390344\\0.0.0\\2960f95a26e85d40ca41a230ac88787f715ee3003edaacb8b1f0891e9f04dda2. Subsequent calls will reuse this data.\n",
      "100%|██████████| 2500/2500 [00:00<00:00, 10182.69ex/s]\n",
      "100%|██████████| 3/3 [00:02<00:00,  1.21ba/s]\n"
     ]
    }
   ],
   "source": [
    "from flash.text import TextClassificationData, TextClassifier\n",
    "\n",
    "input_fields,target_fields = 'review', 'sentiment'\n",
    "batch_size=512\n",
    "datamodule = TextClassificationData.from_csv(\n",
    "    train_file=config['text-example']['train_file'],\n",
    "    val_file=config['text-example']['val_file'],\n",
    "    test_file=config['text-example']['test_file'],\n",
    "    input_fields=input_fields,\n",
    "    target_fields=target_fields,\n",
    "    batch_size=batch_size\n",
    ")"
   ]
  },
  {
   "cell_type": "code",
   "execution_count": 7,
   "metadata": {},
   "outputs": [
    {
     "output_type": "stream",
     "name": "stderr",
     "text": [
      "Downloading: 100%|██████████| 286/286 [00:00<00:00, 26.0kB/s]\n",
      "Downloading: 100%|██████████| 45.1M/45.1M [00:04<00:00, 10.3MB/s]\n",
      "Some weights of the model checkpoint at prajjwal1/bert-mini were not used when initializing BertForSequenceClassification: ['cls.predictions.transform.dense.weight', 'cls.predictions.transform.LayerNorm.bias', 'cls.predictions.decoder.bias', 'cls.predictions.transform.LayerNorm.weight', 'cls.seq_relationship.weight', 'cls.predictions.transform.dense.bias', 'cls.predictions.bias', 'cls.seq_relationship.bias', 'cls.predictions.decoder.weight']\n",
      "- This IS expected if you are initializing BertForSequenceClassification from the checkpoint of a model trained on another task or with another architecture (e.g. initializing a BertForSequenceClassification model from a BertForPreTraining model).\n",
      "- This IS NOT expected if you are initializing BertForSequenceClassification from the checkpoint of a model that you expect to be exactly identical (initializing a BertForSequenceClassification model from a BertForSequenceClassification model).\n",
      "Some weights of BertForSequenceClassification were not initialized from the model checkpoint at prajjwal1/bert-mini and are newly initialized: ['classifier.bias', 'classifier.weight']\n",
      "You should probably TRAIN this model on a down-stream task to be able to use it for predictions and inference.\n"
     ]
    }
   ],
   "source": [
    "model = TextClassifier(num_classes=datamodule.num_classes, backbone='prajjwal1/bert-mini')"
   ]
  },
  {
   "source": [
    "**Backbone** Can be seen on huggingface: [huggingface-link](https://huggingface.co/prajjwal1/bert-mini)"
   ],
   "cell_type": "markdown",
   "metadata": {}
  },
  {
   "cell_type": "code",
   "execution_count": null,
   "metadata": {},
   "outputs": [],
   "source": []
  }
 ]
}